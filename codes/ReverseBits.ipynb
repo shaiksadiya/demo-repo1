{
 "cells": [
  {
   "cell_type": "markdown",
   "metadata": {},
   "source": [
    "# Revese Bits\n",
    "Given a number, reverse the bits in the binary representation (consider 32-bit unsigned data) of the number, and print the new number formed.\n",
    "\n",
    "Input Format:\n",
    "\n",
    "First line of input contains T - number of test cases. Each of the next T lines contains a number integer N.\n",
    "\n",
    "Constraints:\n",
    "\n",
    "1 <= T <= 100000\n",
    "0 <= N <= 109\n",
    "\n",
    "Output Format:\n",
    "\n",
    "For each test case, print the new number formed after reversing the bits, separated by new line.\n",
    "\n",
    "Sample Input:\n",
    "\n",
    "4\n",
    "4\n",
    "15\n",
    "6\n",
    "1000000000\n",
    "\n",
    "Sample Output:\n",
    "\n",
    "536870912\n",
    "4026531840\n",
    "1610612736\n",
    "5462492\n",
    "\n",
    "Explanation:\n",
    "\n",
    "Test Case 1:\n",
    "\n",
    "Binary Representation of 4: 000...100\n",
    "After reversing the bits: 001...000 (536870912)\n",
    "\n",
    "Test Case 2:\n",
    "\n",
    "Binary Representation of 15: 000...1111\n",
    "After reversing the bits: 1111...000 (4026531840)"
   ]
  },
  {
   "cell_type": "code",
   "execution_count": 1,
   "metadata": {},
   "outputs": [
    {
     "name": "stdout",
     "output_type": "stream",
     "text": [
      "1\n",
      "4\n",
      "536870912\n"
     ]
    }
   ],
   "source": [
    "T = int(input())\n",
    "while T != 0 :\n",
    "    T = T - 1\n",
    "    n = int(input())\n",
    "    binary_str = bin(n)\n",
    "    binaryrev = binary_str[-1:1:-1]\n",
    "    binary = int(binaryrev + (32 - len(binaryrev))*\"0\")\n",
    "    i = 0 \n",
    "    decimal = 0\n",
    "    while binary != 0 :\n",
    "        digit = binary % 10\n",
    "        decimal = decimal + digit * pow(2, i)\n",
    "        i  += 1\n",
    "        binary = binary // 10\n",
    "    print(decimal)\n",
    "    "
   ]
  },
  {
   "cell_type": "code",
   "execution_count": 2,
   "metadata": {},
   "outputs": [
    {
     "data": {
      "text/plain": [
       "'010'"
      ]
     },
     "execution_count": 2,
     "metadata": {},
     "output_type": "execute_result"
    }
   ],
   "source": [
    "a= '{:03b}'.format(2)\n",
    "a"
   ]
  }
 ],
 "metadata": {
  "kernelspec": {
   "display_name": "Python 3",
   "language": "python",
   "name": "python3"
  },
  "language_info": {
   "codemirror_mode": {
    "name": "ipython",
    "version": 3
   },
   "file_extension": ".py",
   "mimetype": "text/x-python",
   "name": "python",
   "nbconvert_exporter": "python",
   "pygments_lexer": "ipython3",
   "version": "3.8.3"
  }
 },
 "nbformat": 4,
 "nbformat_minor": 4
}

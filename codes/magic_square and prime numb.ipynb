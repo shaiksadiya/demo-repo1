{
 "cells": [
  {
   "cell_type": "markdown",
   "metadata": {},
   "source": [
    "# magic square"
   ]
  },
  {
   "cell_type": "code",
   "execution_count": 20,
   "metadata": {},
   "outputs": [
    {
     "name": "stdout",
     "output_type": "stream",
     "text": [
      "2 7 6 \n",
      "9 5 1 \n",
      "4 3 8 \n"
     ]
    }
   ],
   "source": [
    "def magic_square(n):\n",
    "    lst  = [[0 for i in range(n)] for i in range(n)]\n",
    "    p = n//2\n",
    "    q = n-1\n",
    "    \n",
    "    for i in range(1, n**2 + 1):\n",
    "        if p ==-1  and q == n :\n",
    "            p,q = (0,n-2)\n",
    "        elif p == -1 :\n",
    "            p = n-1\n",
    "        elif q == n :\n",
    "            q = 0 \n",
    "        else :\n",
    "            pass\n",
    "                \n",
    "        if lst[p][q] != 0 :\n",
    "            p,q = (p+1 ,q-2)\n",
    "            lst[p][q] = i\n",
    "        else :\n",
    "            lst[p][q] = i\n",
    "        p = p - 1\n",
    "        q = q + 1\n",
    "    \n",
    "    for i in range(0,n):\n",
    "        for j in range(0,n):\n",
    "            print(lst[i][j],end= ' ')\n",
    "        print()\n",
    "magic_square(3)"
   ]
  },
  {
   "cell_type": "code",
   "execution_count": 20,
   "metadata": {},
   "outputs": [],
   "source": [
    "lst[n//2][n-1] = 1"
   ]
  },
  {
   "cell_type": "code",
   "execution_count": 21,
   "metadata": {},
   "outputs": [
    {
     "data": {
      "text/plain": [
       "1"
      ]
     },
     "execution_count": 21,
     "metadata": {},
     "output_type": "execute_result"
    }
   ],
   "source": [
    "lst[1][2]"
   ]
  },
  {
   "cell_type": "code",
   "execution_count": 22,
   "metadata": {},
   "outputs": [
    {
     "name": "stdout",
     "output_type": "stream",
     "text": [
      "Yes this statement also executes successfully\n"
     ]
    }
   ],
   "source": [
    "a = 0\n",
    "if a == 1 :\n",
    "    print('dsklfj')\n",
    "elif a ==2 :\n",
    "    print()\n",
    "elif a == 3 :\n",
    "    print()\n",
    "else :\n",
    "    pass\n",
    "print('Yes this statement also executes successfully')"
   ]
  },
  {
   "cell_type": "markdown",
   "metadata": {},
   "source": [
    "# Prime or not ??"
   ]
  },
  {
   "cell_type": "code",
   "execution_count": 12,
   "metadata": {},
   "outputs": [
    {
     "name": "stdout",
     "output_type": "stream",
     "text": [
      "31\n",
      "yes its a prime numb.\n"
     ]
    }
   ],
   "source": [
    "import math\n",
    "n = int(input())\n",
    "res = \"yes its a prime numb.\"\n",
    "for i in range(2,int(math.sqrt(n))+1) :\n",
    "    if n % i ==0 :\n",
    "        res = \"not a prime numb\"\n",
    "        break\n",
    "    else :\n",
    "        continue\n",
    "print(res)"
   ]
  },
  {
   "cell_type": "code",
   "execution_count": 10,
   "metadata": {},
   "outputs": [
    {
     "data": {
      "text/plain": [
       "3.3166247903554"
      ]
     },
     "execution_count": 10,
     "metadata": {},
     "output_type": "execute_result"
    }
   ],
   "source": [
    "math.sqrt(11)"
   ]
  },
  {
   "cell_type": "code",
   "execution_count": 13,
   "metadata": {},
   "outputs": [],
   "source": [
    "lst = [ [[0 for k in range(2)] for i in range(3)] for j in range(3)]"
   ]
  },
  {
   "cell_type": "code",
   "execution_count": 14,
   "metadata": {},
   "outputs": [
    {
     "data": {
      "text/plain": [
       "[[[0, 0], [0, 0], [0, 0]], [[0, 0], [0, 0], [0, 0]], [[0, 0], [0, 0], [0, 0]]]"
      ]
     },
     "execution_count": 14,
     "metadata": {},
     "output_type": "execute_result"
    }
   ],
   "source": [
    "lst"
   ]
  },
  {
   "cell_type": "code",
   "execution_count": null,
   "metadata": {},
   "outputs": [],
   "source": []
  }
 ],
 "metadata": {
  "kernelspec": {
   "display_name": "Python 3",
   "language": "python",
   "name": "python3"
  },
  "language_info": {
   "codemirror_mode": {
    "name": "ipython",
    "version": 3
   },
   "file_extension": ".py",
   "mimetype": "text/x-python",
   "name": "python",
   "nbconvert_exporter": "python",
   "pygments_lexer": "ipython3",
   "version": "3.8.3"
  }
 },
 "nbformat": 4,
 "nbformat_minor": 4
}

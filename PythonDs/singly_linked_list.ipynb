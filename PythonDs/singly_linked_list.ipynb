{
 "cells": [
  {
   "cell_type": "markdown",
   "metadata": {},
   "source": [
    "# Singly Linked List\n",
    "    operations : 1 add/Insertion\n",
    "                 2 deletion\n",
    "                 3 traversal"
   ]
  },
  {
   "cell_type": "markdown",
   "metadata": {},
   "source": [
    "## Operations of a Linked List"
   ]
  },
  {
   "cell_type": "code",
   "execution_count": 121,
   "metadata": {},
   "outputs": [],
   "source": [
    "class Node():  #class to create node of a linked list\n",
    "    def __init__(self,data):\n",
    "        self.data = data\n",
    "        self.ref = None\n",
    "\n",
    "class LinkedList(): #class to create linkedList\n",
    "    def __init__(self):\n",
    "        self.head = None\n",
    "    \n",
    "    def print_LinkedList(self):\n",
    "        n = self.head\n",
    "        if n == None :\n",
    "            print(\"Linked List is Empty\")\n",
    "        else :\n",
    "            while n is not None :\n",
    "                print(n.data, end =\"-->\")\n",
    "                n = n.ref\n",
    "                \n",
    "    def add_begin(self,data):\n",
    "        new_node = Node(data)\n",
    "        new_node.ref = self.head\n",
    "        self.head = new_node\n",
    "    \n",
    "    def add_end(self,data):\n",
    "        new_node = Node(data)\n",
    "        if self.head is None :\n",
    "            self.head = new_node\n",
    "        else :\n",
    "            n = self.head\n",
    "            while n.ref is not None :\n",
    "                n = n.ref\n",
    "            n.ref = new_node\n",
    "            \n",
    "    def add_after(self,data,x):\n",
    "        n = self.head\n",
    "        while n is not None :\n",
    "            if  n.data == x:\n",
    "                break\n",
    "            else :\n",
    "                n = n.ref\n",
    "        if n == None :\n",
    "            print(\"the node is not present in the linked list\")\n",
    "        else :\n",
    "            new_node = Node(data)\n",
    "            new_node.ref = n.ref\n",
    "            n.ref = new_node"
   ]
  },
  {
   "cell_type": "code",
   "execution_count": 126,
   "metadata": {},
   "outputs": [],
   "source": [
    "LL = LinkedList()\n"
   ]
  },
  {
   "cell_type": "code",
   "execution_count": 127,
   "metadata": {},
   "outputs": [
    {
     "name": "stdout",
     "output_type": "stream",
     "text": [
      "20-->200-->20-->20-->"
     ]
    }
   ],
   "source": [
    "LL.add_begin(20)\n",
    "LL.add_end(20)\n",
    "LL.add_begin(20)\n",
    "LL.add_after(200,20)\n",
    "LL.print_LinkedList()\n"
   ]
  },
  {
   "cell_type": "code",
   "execution_count": 67,
   "metadata": {},
   "outputs": [],
   "source": [
    "# practise :\n",
    "def Node():\n",
    "    def __init__(self,data):\n",
    "        self.data = data\n",
    "        self.ref = None\n",
    "    "
   ]
  },
  {
   "cell_type": "code",
   "execution_count": 68,
   "metadata": {},
   "outputs": [
    {
     "ename": "SyntaxError",
     "evalue": "invalid syntax (<ipython-input-68-8d1d7f8d4813>, line 9)",
     "output_type": "error",
     "traceback": [
      "\u001b[1;36m  File \u001b[1;32m\"<ipython-input-68-8d1d7f8d4813>\"\u001b[1;36m, line \u001b[1;32m9\u001b[0m\n\u001b[1;33m    else :\u001b[0m\n\u001b[1;37m    ^\u001b[0m\n\u001b[1;31mSyntaxError\u001b[0m\u001b[1;31m:\u001b[0m invalid syntax\n"
     ]
    }
   ],
   "source": [
    "class LinkedList():\n",
    "    def __init__(self):\n",
    "        self.head = None\n",
    "    \n",
    "    def printLL(self):\n",
    "        if self.head == None :\n",
    "            print(\"linked list is empty\")\n",
    "        n = self.head\n",
    "        else :\n",
    "            while n is not None :\n",
    "                print(n.data)\n",
    "                n = n.ref\n",
    "                \n",
    "    def add_begin(self, data):\n",
    "        new_node = Node(data)\n",
    "        new_node.ref = self.head\n",
    "        self.head = new_node\n",
    "    \n"
   ]
  },
  {
   "cell_type": "code",
   "execution_count": 109,
   "metadata": {},
   "outputs": [],
   "source": [
    "class Node():\n",
    "    def __init__(self, data):\n",
    "        self.data = data\n",
    "        self.ref = None\n",
    "        \n",
    "class LinkedList():\n",
    "    def __init__(self):\n",
    "        self.head = None\n",
    "        \n",
    "    def printLL(self):\n",
    "        if self.head == None :\n",
    "            print(\"Linked List is empty\")\n",
    "        else :\n",
    "            n = self.head \n",
    "            while n != None :\n",
    "                print(n.data,end= \"-->\")\n",
    "                n = n.ref\n",
    "    \n",
    "    def add_begin(self,data):\n",
    "        new_node = Node(data)\n",
    "        new_node.ref = self.head\n",
    "        self.head = new_node\n",
    "        \n",
    "        \n",
    "    def add_end(self,data):\n",
    "        new_node = Node(data)\n",
    "        if self.head == None :\n",
    "            self.head = new_node\n",
    "        else :\n",
    "            n = self.head\n",
    "            while n.ref != None :\n",
    "                n = n.ref\n",
    "            n.ref = new_node\n",
    "            \n",
    "        "
   ]
  },
  {
   "cell_type": "code",
   "execution_count": 110,
   "metadata": {},
   "outputs": [],
   "source": [
    "LL = LinkedList()"
   ]
  },
  {
   "cell_type": "code",
   "execution_count": 111,
   "metadata": {},
   "outputs": [],
   "source": [
    "LL.add_begin(10)"
   ]
  },
  {
   "cell_type": "code",
   "execution_count": 112,
   "metadata": {},
   "outputs": [],
   "source": [
    "LL.add_begin(20)"
   ]
  },
  {
   "cell_type": "code",
   "execution_count": 113,
   "metadata": {},
   "outputs": [],
   "source": [
    "LL.add_end(300)\n",
    "LL.add_end(\"100\")"
   ]
  },
  {
   "cell_type": "code",
   "execution_count": 114,
   "metadata": {},
   "outputs": [
    {
     "name": "stdout",
     "output_type": "stream",
     "text": [
      "20-->10-->300-->100-->"
     ]
    }
   ],
   "source": [
    "LL.printLL()"
   ]
  },
  {
   "cell_type": "code",
   "execution_count": null,
   "metadata": {},
   "outputs": [],
   "source": []
  }
 ],
 "metadata": {
  "kernelspec": {
   "display_name": "Python 3",
   "language": "python",
   "name": "python3"
  },
  "language_info": {
   "codemirror_mode": {
    "name": "ipython",
    "version": 3
   },
   "file_extension": ".py",
   "mimetype": "text/x-python",
   "name": "python",
   "nbconvert_exporter": "python",
   "pygments_lexer": "ipython3",
   "version": "3.8.3"
  }
 },
 "nbformat": 4,
 "nbformat_minor": 4
}
